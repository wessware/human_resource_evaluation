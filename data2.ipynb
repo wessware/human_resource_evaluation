{
 "metadata": {
  "language_info": {
   "codemirror_mode": {
    "name": "ipython",
    "version": 3
   },
   "file_extension": ".py",
   "mimetype": "text/x-python",
   "name": "python",
   "nbconvert_exporter": "python",
   "pygments_lexer": "ipython3",
   "version": "3.8.5-final"
  },
  "orig_nbformat": 2,
  "kernelspec": {
   "name": "python_defaultSpec_1599795549464",
   "display_name": "Python 3.8.5 32-bit ('.data': venv)"
  }
 },
 "nbformat": 4,
 "nbformat_minor": 2,
 "cells": [
  {
   "cell_type": "code",
   "execution_count": 1,
   "metadata": {},
   "outputs": [],
   "source": [
    "import pandas as pd \n"
   ]
  },
  {
   "cell_type": "code",
   "execution_count": 2,
   "metadata": {},
   "outputs": [],
   "source": [
    "df_1 = pd.DataFrame({'product': ['red shirt', 'red shirt', 'red shirt', 'white dress'],\n",
    "'price': [49.33, 49.33, 32.49, 199.99]})\n",
    "df_2 = pd.DataFrame({'product': ['red shirt', 'blue pants', 'white tuxedo', 'white dress'],\n",
    "'in_stock': [True, True, False, False]})"
   ]
  },
  {
   "cell_type": "code",
   "execution_count": 3,
   "metadata": {},
   "outputs": [],
   "source": [
    "df = pd.merge(left = df_1, right = df_2, on = 'product', how = 'inner')"
   ]
  },
  {
   "cell_type": "code",
   "execution_count": 4,
   "metadata": {},
   "outputs": [
    {
     "output_type": "execute_result",
     "data": {
      "text/plain": "       product   price  in_stock\n0    red shirt   49.33      True\n1    red shirt   49.33      True\n2    red shirt   32.49      True\n3  white dress  199.99     False",
      "text/html": "<div>\n<style scoped>\n    .dataframe tbody tr th:only-of-type {\n        vertical-align: middle;\n    }\n\n    .dataframe tbody tr th {\n        vertical-align: top;\n    }\n\n    .dataframe thead th {\n        text-align: right;\n    }\n</style>\n<table border=\"1\" class=\"dataframe\">\n  <thead>\n    <tr style=\"text-align: right;\">\n      <th></th>\n      <th>product</th>\n      <th>price</th>\n      <th>in_stock</th>\n    </tr>\n  </thead>\n  <tbody>\n    <tr>\n      <th>0</th>\n      <td>red shirt</td>\n      <td>49.33</td>\n      <td>True</td>\n    </tr>\n    <tr>\n      <th>1</th>\n      <td>red shirt</td>\n      <td>49.33</td>\n      <td>True</td>\n    </tr>\n    <tr>\n      <th>2</th>\n      <td>red shirt</td>\n      <td>32.49</td>\n      <td>True</td>\n    </tr>\n    <tr>\n      <th>3</th>\n      <td>white dress</td>\n      <td>199.99</td>\n      <td>False</td>\n    </tr>\n  </tbody>\n</table>\n</div>"
     },
     "metadata": {},
     "execution_count": 4
    }
   ],
   "source": [
    "df"
   ]
  },
  {
   "cell_type": "code",
   "execution_count": 5,
   "metadata": {},
   "outputs": [],
   "source": [
    "df = pd.merge(left = df_1, right = df_2, on = 'product', how = 'outer')"
   ]
  },
  {
   "cell_type": "code",
   "execution_count": 6,
   "metadata": {},
   "outputs": [
    {
     "output_type": "execute_result",
     "data": {
      "text/plain": "        product   price  in_stock\n0     red shirt   49.33      True\n1     red shirt   49.33      True\n2     red shirt   32.49      True\n3   white dress  199.99     False\n4    blue pants     NaN      True\n5  white tuxedo     NaN     False",
      "text/html": "<div>\n<style scoped>\n    .dataframe tbody tr th:only-of-type {\n        vertical-align: middle;\n    }\n\n    .dataframe tbody tr th {\n        vertical-align: top;\n    }\n\n    .dataframe thead th {\n        text-align: right;\n    }\n</style>\n<table border=\"1\" class=\"dataframe\">\n  <thead>\n    <tr style=\"text-align: right;\">\n      <th></th>\n      <th>product</th>\n      <th>price</th>\n      <th>in_stock</th>\n    </tr>\n  </thead>\n  <tbody>\n    <tr>\n      <th>0</th>\n      <td>red shirt</td>\n      <td>49.33</td>\n      <td>True</td>\n    </tr>\n    <tr>\n      <th>1</th>\n      <td>red shirt</td>\n      <td>49.33</td>\n      <td>True</td>\n    </tr>\n    <tr>\n      <th>2</th>\n      <td>red shirt</td>\n      <td>32.49</td>\n      <td>True</td>\n    </tr>\n    <tr>\n      <th>3</th>\n      <td>white dress</td>\n      <td>199.99</td>\n      <td>False</td>\n    </tr>\n    <tr>\n      <th>4</th>\n      <td>blue pants</td>\n      <td>NaN</td>\n      <td>True</td>\n    </tr>\n    <tr>\n      <th>5</th>\n      <td>white tuxedo</td>\n      <td>NaN</td>\n      <td>False</td>\n    </tr>\n  </tbody>\n</table>\n</div>"
     },
     "metadata": {},
     "execution_count": 6
    }
   ],
   "source": [
    "df"
   ]
  },
  {
   "cell_type": "code",
   "execution_count": 7,
   "metadata": {},
   "outputs": [],
   "source": [
    "df = pd.merge(left = df_1, right = df_2, on = 'product', how = 'outer')"
   ]
  },
  {
   "cell_type": "code",
   "execution_count": 8,
   "metadata": {},
   "outputs": [
    {
     "output_type": "execute_result",
     "data": {
      "text/plain": "        product   price  in_stock\n0     red shirt   49.33      True\n1     red shirt   49.33      True\n2     red shirt   32.49      True\n3   white dress  199.99     False\n4    blue pants     NaN      True\n5  white tuxedo     NaN     False",
      "text/html": "<div>\n<style scoped>\n    .dataframe tbody tr th:only-of-type {\n        vertical-align: middle;\n    }\n\n    .dataframe tbody tr th {\n        vertical-align: top;\n    }\n\n    .dataframe thead th {\n        text-align: right;\n    }\n</style>\n<table border=\"1\" class=\"dataframe\">\n  <thead>\n    <tr style=\"text-align: right;\">\n      <th></th>\n      <th>product</th>\n      <th>price</th>\n      <th>in_stock</th>\n    </tr>\n  </thead>\n  <tbody>\n    <tr>\n      <th>0</th>\n      <td>red shirt</td>\n      <td>49.33</td>\n      <td>True</td>\n    </tr>\n    <tr>\n      <th>1</th>\n      <td>red shirt</td>\n      <td>49.33</td>\n      <td>True</td>\n    </tr>\n    <tr>\n      <th>2</th>\n      <td>red shirt</td>\n      <td>32.49</td>\n      <td>True</td>\n    </tr>\n    <tr>\n      <th>3</th>\n      <td>white dress</td>\n      <td>199.99</td>\n      <td>False</td>\n    </tr>\n    <tr>\n      <th>4</th>\n      <td>blue pants</td>\n      <td>NaN</td>\n      <td>True</td>\n    </tr>\n    <tr>\n      <th>5</th>\n      <td>white tuxedo</td>\n      <td>NaN</td>\n      <td>False</td>\n    </tr>\n  </tbody>\n</table>\n</div>"
     },
     "metadata": {},
     "execution_count": 8
    }
   ],
   "source": [
    "df"
   ]
  },
  {
   "cell_type": "code",
   "execution_count": 9,
   "metadata": {},
   "outputs": [
    {
     "output_type": "execute_result",
     "data": {
      "text/plain": "     product  price  in_stock\n1  red shirt  49.33      True",
      "text/html": "<div>\n<style scoped>\n    .dataframe tbody tr th:only-of-type {\n        vertical-align: middle;\n    }\n\n    .dataframe tbody tr th {\n        vertical-align: top;\n    }\n\n    .dataframe thead th {\n        text-align: right;\n    }\n</style>\n<table border=\"1\" class=\"dataframe\">\n  <thead>\n    <tr style=\"text-align: right;\">\n      <th></th>\n      <th>product</th>\n      <th>price</th>\n      <th>in_stock</th>\n    </tr>\n  </thead>\n  <tbody>\n    <tr>\n      <th>1</th>\n      <td>red shirt</td>\n      <td>49.33</td>\n      <td>True</td>\n    </tr>\n  </tbody>\n</table>\n</div>"
     },
     "metadata": {},
     "execution_count": 9
    }
   ],
   "source": [
    "df[df.duplicated()]"
   ]
  },
  {
   "cell_type": "code",
   "execution_count": 10,
   "metadata": {},
   "outputs": [
    {
     "output_type": "execute_result",
     "data": {
      "text/plain": "        product   price  in_stock\n0     red shirt   49.33      True\n2     red shirt   32.49      True\n3   white dress  199.99     False\n4    blue pants     NaN      True\n5  white tuxedo     NaN     False",
      "text/html": "<div>\n<style scoped>\n    .dataframe tbody tr th:only-of-type {\n        vertical-align: middle;\n    }\n\n    .dataframe tbody tr th {\n        vertical-align: top;\n    }\n\n    .dataframe thead th {\n        text-align: right;\n    }\n</style>\n<table border=\"1\" class=\"dataframe\">\n  <thead>\n    <tr style=\"text-align: right;\">\n      <th></th>\n      <th>product</th>\n      <th>price</th>\n      <th>in_stock</th>\n    </tr>\n  </thead>\n  <tbody>\n    <tr>\n      <th>0</th>\n      <td>red shirt</td>\n      <td>49.33</td>\n      <td>True</td>\n    </tr>\n    <tr>\n      <th>2</th>\n      <td>red shirt</td>\n      <td>32.49</td>\n      <td>True</td>\n    </tr>\n    <tr>\n      <th>3</th>\n      <td>white dress</td>\n      <td>199.99</td>\n      <td>False</td>\n    </tr>\n    <tr>\n      <th>4</th>\n      <td>blue pants</td>\n      <td>NaN</td>\n      <td>True</td>\n    </tr>\n    <tr>\n      <th>5</th>\n      <td>white tuxedo</td>\n      <td>NaN</td>\n      <td>False</td>\n    </tr>\n  </tbody>\n</table>\n</div>"
     },
     "metadata": {},
     "execution_count": 10
    }
   ],
   "source": [
    "df[~df.duplicated()]"
   ]
  },
  {
   "cell_type": "code",
   "execution_count": 11,
   "metadata": {},
   "outputs": [
    {
     "output_type": "execute_result",
     "data": {
      "text/plain": "        product   price  in_stock\n0     red shirt   49.33      True\n1     red shirt   49.33      True\n2     red shirt   32.49      True\n3   white dress  199.99     False\n4    blue pants     NaN      True\n5  white tuxedo     NaN     False",
      "text/html": "<div>\n<style scoped>\n    .dataframe tbody tr th:only-of-type {\n        vertical-align: middle;\n    }\n\n    .dataframe tbody tr th {\n        vertical-align: top;\n    }\n\n    .dataframe thead th {\n        text-align: right;\n    }\n</style>\n<table border=\"1\" class=\"dataframe\">\n  <thead>\n    <tr style=\"text-align: right;\">\n      <th></th>\n      <th>product</th>\n      <th>price</th>\n      <th>in_stock</th>\n    </tr>\n  </thead>\n  <tbody>\n    <tr>\n      <th>0</th>\n      <td>red shirt</td>\n      <td>49.33</td>\n      <td>True</td>\n    </tr>\n    <tr>\n      <th>1</th>\n      <td>red shirt</td>\n      <td>49.33</td>\n      <td>True</td>\n    </tr>\n    <tr>\n      <th>2</th>\n      <td>red shirt</td>\n      <td>32.49</td>\n      <td>True</td>\n    </tr>\n    <tr>\n      <th>3</th>\n      <td>white dress</td>\n      <td>199.99</td>\n      <td>False</td>\n    </tr>\n    <tr>\n      <th>4</th>\n      <td>blue pants</td>\n      <td>NaN</td>\n      <td>True</td>\n    </tr>\n    <tr>\n      <th>5</th>\n      <td>white tuxedo</td>\n      <td>NaN</td>\n      <td>False</td>\n    </tr>\n  </tbody>\n</table>\n</div>"
     },
     "metadata": {},
     "execution_count": 11
    }
   ],
   "source": [
    "df"
   ]
  },
  {
   "cell_type": "code",
   "execution_count": 12,
   "metadata": {},
   "outputs": [],
   "source": [
    "df = df.drop_duplicates()"
   ]
  },
  {
   "cell_type": "code",
   "execution_count": 13,
   "metadata": {},
   "outputs": [
    {
     "output_type": "execute_result",
     "data": {
      "text/plain": "0    False\n2    False\n3    False\n4    False\n5    False\ndtype: bool"
     },
     "metadata": {},
     "execution_count": 13
    }
   ],
   "source": [
    "df.duplicated()"
   ]
  },
  {
   "cell_type": "code",
   "execution_count": 14,
   "metadata": {},
   "outputs": [
    {
     "output_type": "execute_result",
     "data": {
      "text/plain": "0"
     },
     "metadata": {},
     "execution_count": 14
    }
   ],
   "source": [
    "df.duplicated().sum()"
   ]
  },
  {
   "cell_type": "code",
   "execution_count": 15,
   "metadata": {},
   "outputs": [
    {
     "output_type": "execute_result",
     "data": {
      "text/plain": "        product   price  in_stock\n0     red shirt   49.33      True\n2     red shirt   32.49      True\n3   white dress  199.99     False\n4    blue pants     NaN      True\n5  white tuxedo     NaN     False",
      "text/html": "<div>\n<style scoped>\n    .dataframe tbody tr th:only-of-type {\n        vertical-align: middle;\n    }\n\n    .dataframe tbody tr th {\n        vertical-align: top;\n    }\n\n    .dataframe thead th {\n        text-align: right;\n    }\n</style>\n<table border=\"1\" class=\"dataframe\">\n  <thead>\n    <tr style=\"text-align: right;\">\n      <th></th>\n      <th>product</th>\n      <th>price</th>\n      <th>in_stock</th>\n    </tr>\n  </thead>\n  <tbody>\n    <tr>\n      <th>0</th>\n      <td>red shirt</td>\n      <td>49.33</td>\n      <td>True</td>\n    </tr>\n    <tr>\n      <th>2</th>\n      <td>red shirt</td>\n      <td>32.49</td>\n      <td>True</td>\n    </tr>\n    <tr>\n      <th>3</th>\n      <td>white dress</td>\n      <td>199.99</td>\n      <td>False</td>\n    </tr>\n    <tr>\n      <th>4</th>\n      <td>blue pants</td>\n      <td>NaN</td>\n      <td>True</td>\n    </tr>\n    <tr>\n      <th>5</th>\n      <td>white tuxedo</td>\n      <td>NaN</td>\n      <td>False</td>\n    </tr>\n  </tbody>\n</table>\n</div>"
     },
     "metadata": {},
     "execution_count": 15
    }
   ],
   "source": [
    "df"
   ]
  },
  {
   "cell_type": "code",
   "execution_count": 16,
   "metadata": {},
   "outputs": [],
   "source": [
    "import numpy as np"
   ]
  },
  {
   "cell_type": "code",
   "execution_count": 17,
   "metadata": {},
   "outputs": [
    {
     "output_type": "execute_result",
     "data": {
      "text/plain": "        product       price  in_stock\n0     red shirt   49.330000      True\n2     red shirt   32.490000      True\n3   white dress  199.990000     False\n4    blue pants   93.936667      True\n5  white tuxedo   93.936667     False",
      "text/html": "<div>\n<style scoped>\n    .dataframe tbody tr th:only-of-type {\n        vertical-align: middle;\n    }\n\n    .dataframe tbody tr th {\n        vertical-align: top;\n    }\n\n    .dataframe thead th {\n        text-align: right;\n    }\n</style>\n<table border=\"1\" class=\"dataframe\">\n  <thead>\n    <tr style=\"text-align: right;\">\n      <th></th>\n      <th>product</th>\n      <th>price</th>\n      <th>in_stock</th>\n    </tr>\n  </thead>\n  <tbody>\n    <tr>\n      <th>0</th>\n      <td>red shirt</td>\n      <td>49.330000</td>\n      <td>True</td>\n    </tr>\n    <tr>\n      <th>2</th>\n      <td>red shirt</td>\n      <td>32.490000</td>\n      <td>True</td>\n    </tr>\n    <tr>\n      <th>3</th>\n      <td>white dress</td>\n      <td>199.990000</td>\n      <td>False</td>\n    </tr>\n    <tr>\n      <th>4</th>\n      <td>blue pants</td>\n      <td>93.936667</td>\n      <td>True</td>\n    </tr>\n    <tr>\n      <th>5</th>\n      <td>white tuxedo</td>\n      <td>93.936667</td>\n      <td>False</td>\n    </tr>\n  </tbody>\n</table>\n</div>"
     },
     "metadata": {},
     "execution_count": 17
    }
   ],
   "source": [
    "df.fillna(value = df.price.mean())"
   ]
  },
  {
   "cell_type": "code",
   "execution_count": 18,
   "metadata": {},
   "outputs": [
    {
     "output_type": "execute_result",
     "data": {
      "text/plain": "        product   price  in_stock  rating\n0     red shirt   49.33      True     low\n2     red shirt   32.49      True  medium\n3   white dress  199.99     False     low\n4    blue pants     NaN      True    high\n5  white tuxedo     NaN     False    high",
      "text/html": "<div>\n<style scoped>\n    .dataframe tbody tr th:only-of-type {\n        vertical-align: middle;\n    }\n\n    .dataframe tbody tr th {\n        vertical-align: top;\n    }\n\n    .dataframe thead th {\n        text-align: right;\n    }\n</style>\n<table border=\"1\" class=\"dataframe\">\n  <thead>\n    <tr style=\"text-align: right;\">\n      <th></th>\n      <th>product</th>\n      <th>price</th>\n      <th>in_stock</th>\n      <th>rating</th>\n    </tr>\n  </thead>\n  <tbody>\n    <tr>\n      <th>0</th>\n      <td>red shirt</td>\n      <td>49.33</td>\n      <td>True</td>\n      <td>low</td>\n    </tr>\n    <tr>\n      <th>2</th>\n      <td>red shirt</td>\n      <td>32.49</td>\n      <td>True</td>\n      <td>medium</td>\n    </tr>\n    <tr>\n      <th>3</th>\n      <td>white dress</td>\n      <td>199.99</td>\n      <td>False</td>\n      <td>low</td>\n    </tr>\n    <tr>\n      <th>4</th>\n      <td>blue pants</td>\n      <td>NaN</td>\n      <td>True</td>\n      <td>high</td>\n    </tr>\n    <tr>\n      <th>5</th>\n      <td>white tuxedo</td>\n      <td>NaN</td>\n      <td>False</td>\n      <td>high</td>\n    </tr>\n  </tbody>\n</table>\n</div>"
     },
     "metadata": {},
     "execution_count": 18
    }
   ],
   "source": [
    "\n",
    "#df.fillna(method = 'pad')\n",
    "ratings  = ['low', 'medium', 'high']\n",
    "np.random.seed(2)\n",
    "df['rating'] = np.random.choice(ratings, len(df))\n",
    "df"
   ]
  },
  {
   "cell_type": "code",
   "execution_count": 19,
   "metadata": {},
   "outputs": [
    {
     "output_type": "execute_result",
     "data": {
      "text/plain": "        product   price  in_stock  rating\n0     red shirt   49.33         1     low\n2     red shirt   32.49         1  medium\n3   white dress  199.99         0     low\n4    blue pants     NaN         1    high\n5  white tuxedo     NaN         0    high",
      "text/html": "<div>\n<style scoped>\n    .dataframe tbody tr th:only-of-type {\n        vertical-align: middle;\n    }\n\n    .dataframe tbody tr th {\n        vertical-align: top;\n    }\n\n    .dataframe thead th {\n        text-align: right;\n    }\n</style>\n<table border=\"1\" class=\"dataframe\">\n  <thead>\n    <tr style=\"text-align: right;\">\n      <th></th>\n      <th>product</th>\n      <th>price</th>\n      <th>in_stock</th>\n      <th>rating</th>\n    </tr>\n  </thead>\n  <tbody>\n    <tr>\n      <th>0</th>\n      <td>red shirt</td>\n      <td>49.33</td>\n      <td>1</td>\n      <td>low</td>\n    </tr>\n    <tr>\n      <th>2</th>\n      <td>red shirt</td>\n      <td>32.49</td>\n      <td>1</td>\n      <td>medium</td>\n    </tr>\n    <tr>\n      <th>3</th>\n      <td>white dress</td>\n      <td>199.99</td>\n      <td>0</td>\n      <td>low</td>\n    </tr>\n    <tr>\n      <th>4</th>\n      <td>blue pants</td>\n      <td>NaN</td>\n      <td>1</td>\n      <td>high</td>\n    </tr>\n    <tr>\n      <th>5</th>\n      <td>white tuxedo</td>\n      <td>NaN</td>\n      <td>0</td>\n      <td>high</td>\n    </tr>\n  </tbody>\n</table>\n</div>"
     },
     "metadata": {},
     "execution_count": 19
    }
   ],
   "source": [
    "df.in_stock = df.in_stock.map({False: 0, True: 1})\n",
    "df"
   ]
  },
  {
   "cell_type": "code",
   "execution_count": 20,
   "metadata": {},
   "outputs": [
    {
     "output_type": "execute_result",
     "data": {
      "text/plain": "        product   price  in_stock  rating\n0     red shirt   49.33         1       1\n2     red shirt   32.49         1       2\n3   white dress  199.99         0       1\n4    blue pants     NaN         1       0\n5  white tuxedo     NaN         0       0",
      "text/html": "<div>\n<style scoped>\n    .dataframe tbody tr th:only-of-type {\n        vertical-align: middle;\n    }\n\n    .dataframe tbody tr th {\n        vertical-align: top;\n    }\n\n    .dataframe thead th {\n        text-align: right;\n    }\n</style>\n<table border=\"1\" class=\"dataframe\">\n  <thead>\n    <tr style=\"text-align: right;\">\n      <th></th>\n      <th>product</th>\n      <th>price</th>\n      <th>in_stock</th>\n      <th>rating</th>\n    </tr>\n  </thead>\n  <tbody>\n    <tr>\n      <th>0</th>\n      <td>red shirt</td>\n      <td>49.33</td>\n      <td>1</td>\n      <td>1</td>\n    </tr>\n    <tr>\n      <th>2</th>\n      <td>red shirt</td>\n      <td>32.49</td>\n      <td>1</td>\n      <td>2</td>\n    </tr>\n    <tr>\n      <th>3</th>\n      <td>white dress</td>\n      <td>199.99</td>\n      <td>0</td>\n      <td>1</td>\n    </tr>\n    <tr>\n      <th>4</th>\n      <td>blue pants</td>\n      <td>NaN</td>\n      <td>1</td>\n      <td>0</td>\n    </tr>\n    <tr>\n      <th>5</th>\n      <td>white tuxedo</td>\n      <td>NaN</td>\n      <td>0</td>\n      <td>0</td>\n    </tr>\n  </tbody>\n</table>\n</div>"
     },
     "metadata": {},
     "execution_count": 20
    }
   ],
   "source": [
    "from sklearn.preprocessing import LabelEncoder\n",
    "rating_encoder = LabelEncoder()\n",
    "df = df.copy()\n",
    "df.rating = rating_encoder.fit_transform(df.rating)\n",
    "df"
   ]
  },
  {
   "cell_type": "code",
   "execution_count": 21,
   "metadata": {
    "tags": []
   },
   "outputs": [
    {
     "output_type": "execute_result",
     "data": {
      "text/plain": "        product       price  in_stock  rating\n0     red shirt   49.330000         1       1\n2     red shirt   32.490000         1       2\n3   white dress  199.990000         0       1\n4    blue pants   93.936667         1       0\n5  white tuxedo   93.936667         0       0",
      "text/html": "<div>\n<style scoped>\n    .dataframe tbody tr th:only-of-type {\n        vertical-align: middle;\n    }\n\n    .dataframe tbody tr th {\n        vertical-align: top;\n    }\n\n    .dataframe thead th {\n        text-align: right;\n    }\n</style>\n<table border=\"1\" class=\"dataframe\">\n  <thead>\n    <tr style=\"text-align: right;\">\n      <th></th>\n      <th>product</th>\n      <th>price</th>\n      <th>in_stock</th>\n      <th>rating</th>\n    </tr>\n  </thead>\n  <tbody>\n    <tr>\n      <th>0</th>\n      <td>red shirt</td>\n      <td>49.330000</td>\n      <td>1</td>\n      <td>1</td>\n    </tr>\n    <tr>\n      <th>2</th>\n      <td>red shirt</td>\n      <td>32.490000</td>\n      <td>1</td>\n      <td>2</td>\n    </tr>\n    <tr>\n      <th>3</th>\n      <td>white dress</td>\n      <td>199.990000</td>\n      <td>0</td>\n      <td>1</td>\n    </tr>\n    <tr>\n      <th>4</th>\n      <td>blue pants</td>\n      <td>93.936667</td>\n      <td>1</td>\n      <td>0</td>\n    </tr>\n    <tr>\n      <th>5</th>\n      <td>white tuxedo</td>\n      <td>93.936667</td>\n      <td>0</td>\n      <td>0</td>\n    </tr>\n  </tbody>\n</table>\n</div>"
     },
     "metadata": {},
     "execution_count": 21
    }
   ],
   "source": [
    "df.fillna(value=df.price.mean())"
   ]
  },
  {
   "cell_type": "code",
   "execution_count": 22,
   "metadata": {},
   "outputs": [
    {
     "output_type": "execute_result",
     "data": {
      "text/plain": "    price  in_stock  rating  product_blue pants  product_red shirt  \\\n0   49.33         1       1                   0                  1   \n2   32.49         1       2                   0                  1   \n3  199.99         0       1                   0                  0   \n4     NaN         1       0                   1                  0   \n5     NaN         0       0                   0                  0   \n\n   product_white dress  product_white tuxedo  \n0                    0                     0  \n2                    0                     0  \n3                    1                     0  \n4                    0                     0  \n5                    0                     1  ",
      "text/html": "<div>\n<style scoped>\n    .dataframe tbody tr th:only-of-type {\n        vertical-align: middle;\n    }\n\n    .dataframe tbody tr th {\n        vertical-align: top;\n    }\n\n    .dataframe thead th {\n        text-align: right;\n    }\n</style>\n<table border=\"1\" class=\"dataframe\">\n  <thead>\n    <tr style=\"text-align: right;\">\n      <th></th>\n      <th>price</th>\n      <th>in_stock</th>\n      <th>rating</th>\n      <th>product_blue pants</th>\n      <th>product_red shirt</th>\n      <th>product_white dress</th>\n      <th>product_white tuxedo</th>\n    </tr>\n  </thead>\n  <tbody>\n    <tr>\n      <th>0</th>\n      <td>49.33</td>\n      <td>1</td>\n      <td>1</td>\n      <td>0</td>\n      <td>1</td>\n      <td>0</td>\n      <td>0</td>\n    </tr>\n    <tr>\n      <th>2</th>\n      <td>32.49</td>\n      <td>1</td>\n      <td>2</td>\n      <td>0</td>\n      <td>1</td>\n      <td>0</td>\n      <td>0</td>\n    </tr>\n    <tr>\n      <th>3</th>\n      <td>199.99</td>\n      <td>0</td>\n      <td>1</td>\n      <td>0</td>\n      <td>0</td>\n      <td>1</td>\n      <td>0</td>\n    </tr>\n    <tr>\n      <th>4</th>\n      <td>NaN</td>\n      <td>1</td>\n      <td>0</td>\n      <td>1</td>\n      <td>0</td>\n      <td>0</td>\n      <td>0</td>\n    </tr>\n    <tr>\n      <th>5</th>\n      <td>NaN</td>\n      <td>0</td>\n      <td>0</td>\n      <td>0</td>\n      <td>0</td>\n      <td>0</td>\n      <td>1</td>\n    </tr>\n  </tbody>\n</table>\n</div>"
     },
     "metadata": {},
     "execution_count": 22
    }
   ],
   "source": [
    "df = pd.get_dummies(df)\n",
    "df"
   ]
  },
  {
   "cell_type": "code",
   "execution_count": 23,
   "metadata": {},
   "outputs": [],
   "source": [
    "features = ['price', 'rating', 'product_blue pants', 'product_red shirt', 'product_white dress', 'product_white tuxedo']\n",
    "X = df[features].values\n",
    "target = 'in_stock'\n",
    "y = df[target].values\n",
    "\n",
    "from sklearn.model_selection import train_test_split\n",
    "X_train, X_test, y_train, y_test = train_test_split(X, y, test_size = 0.3)"
   ]
  },
  {
   "cell_type": "code",
   "execution_count": 24,
   "metadata": {
    "tags": []
   },
   "outputs": [
    {
     "output_type": "stream",
     "name": "stdout",
     "text": "shape    \n-------------\nX_train (3, 6)\nX_test (2, 6)\ny_test (2,)\ny_train (3,)\n"
    }
   ],
   "source": [
    "print(\"    shape    \")\n",
    "print(\"-------------\")\n",
    "print('X_train', X_train.shape)\n",
    "print('X_test', X_test.shape)\n",
    "print('y_test', y_test.shape)\n",
    "print('y_train', y_train.shape)"
   ]
  },
  {
   "cell_type": "code",
   "execution_count": null,
   "metadata": {},
   "outputs": [],
   "source": []
  }
 ]
}