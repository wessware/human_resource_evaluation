{
 "metadata": {
  "language_info": {
   "codemirror_mode": {
    "name": "ipython",
    "version": 3
   },
   "file_extension": ".py",
   "mimetype": "text/x-python",
   "name": "python",
   "nbconvert_exporter": "python",
   "pygments_lexer": "ipython3",
   "version": "3.8.5-final"
  },
  "orig_nbformat": 2,
  "kernelspec": {
   "name": "python_defaultSpec_1596988543841",
   "display_name": "Python 3.8.5 32-bit ('.data': venv)"
  }
 },
 "nbformat": 4,
 "nbformat_minor": 2,
 "cells": [
  {
   "cell_type": "code",
   "execution_count": 1,
   "metadata": {},
   "outputs": [],
   "source": [
    "import pandas as pd \n",
    "import numpy as np\n",
    "import matplotlib.pyplot as plt\n",
    "%matplotlib inline\n",
    "\n",
    "log = pd.read_csv(\"G:\\data\\datasets\\logogo.csv\")"
   ]
  },
  {
   "cell_type": "code",
   "execution_count": 2,
   "metadata": {},
   "outputs": [
    {
     "output_type": "execute_result",
     "data": {
      "text/plain": "   statusId accelerate      X      Y      Z\n0         6          1 -0.268  0.536  9.785\n1         6          1 -0.268  0.536  9.785\n2         6          1 -0.268  0.536  9.785\n3         6          1 -0.268  0.536  9.785\n4         6          1 -0.268  0.536  9.785\n5         6          1 -0.268  0.536  9.785\n6         6          1 -0.268  0.536  9.785\n7         6          1 -0.268  0.536  9.785\n8         6          1 -0.268  0.536  9.785\n9         6          1 -0.268  0.536  9.785",
      "text/html": "<div>\n<style scoped>\n    .dataframe tbody tr th:only-of-type {\n        vertical-align: middle;\n    }\n\n    .dataframe tbody tr th {\n        vertical-align: top;\n    }\n\n    .dataframe thead th {\n        text-align: right;\n    }\n</style>\n<table border=\"1\" class=\"dataframe\">\n  <thead>\n    <tr style=\"text-align: right;\">\n      <th></th>\n      <th>statusId</th>\n      <th>accelerate</th>\n      <th>X</th>\n      <th>Y</th>\n      <th>Z</th>\n    </tr>\n  </thead>\n  <tbody>\n    <tr>\n      <th>0</th>\n      <td>6</td>\n      <td>1</td>\n      <td>-0.268</td>\n      <td>0.536</td>\n      <td>9.785</td>\n    </tr>\n    <tr>\n      <th>1</th>\n      <td>6</td>\n      <td>1</td>\n      <td>-0.268</td>\n      <td>0.536</td>\n      <td>9.785</td>\n    </tr>\n    <tr>\n      <th>2</th>\n      <td>6</td>\n      <td>1</td>\n      <td>-0.268</td>\n      <td>0.536</td>\n      <td>9.785</td>\n    </tr>\n    <tr>\n      <th>3</th>\n      <td>6</td>\n      <td>1</td>\n      <td>-0.268</td>\n      <td>0.536</td>\n      <td>9.785</td>\n    </tr>\n    <tr>\n      <th>4</th>\n      <td>6</td>\n      <td>1</td>\n      <td>-0.268</td>\n      <td>0.536</td>\n      <td>9.785</td>\n    </tr>\n    <tr>\n      <th>5</th>\n      <td>6</td>\n      <td>1</td>\n      <td>-0.268</td>\n      <td>0.536</td>\n      <td>9.785</td>\n    </tr>\n    <tr>\n      <th>6</th>\n      <td>6</td>\n      <td>1</td>\n      <td>-0.268</td>\n      <td>0.536</td>\n      <td>9.785</td>\n    </tr>\n    <tr>\n      <th>7</th>\n      <td>6</td>\n      <td>1</td>\n      <td>-0.268</td>\n      <td>0.536</td>\n      <td>9.785</td>\n    </tr>\n    <tr>\n      <th>8</th>\n      <td>6</td>\n      <td>1</td>\n      <td>-0.268</td>\n      <td>0.536</td>\n      <td>9.785</td>\n    </tr>\n    <tr>\n      <th>9</th>\n      <td>6</td>\n      <td>1</td>\n      <td>-0.268</td>\n      <td>0.536</td>\n      <td>9.785</td>\n    </tr>\n  </tbody>\n</table>\n</div>"
     },
     "metadata": {},
     "execution_count": 2
    }
   ],
   "source": [
    "log.head(10)"
   ]
  },
  {
   "cell_type": "code",
   "execution_count": 3,
   "metadata": {},
   "outputs": [
    {
     "output_type": "execute_result",
     "data": {
      "text/plain": "        statusId accelerate      X      Y      Z\n273552         8          1 -6.972  5.784  7.475\n273553         8          1 -7.431  5.516  7.268\n273554         8          1 -7.661  5.439  7.268\n273555         8          1 -7.393  5.324  6.969\n273556         8          1 -6.512  5.133  6.969\n273557         8          1 -5.286  5.171  6.767\n273558         8          1 -3.792  5.286  6.767\n273559         8          1 -2.260  5.324  7.002\n273560         8          1 -1.187  5.554  7.002\n273561         8          1 -0.421  5.631  8.096",
      "text/html": "<div>\n<style scoped>\n    .dataframe tbody tr th:only-of-type {\n        vertical-align: middle;\n    }\n\n    .dataframe tbody tr th {\n        vertical-align: top;\n    }\n\n    .dataframe thead th {\n        text-align: right;\n    }\n</style>\n<table border=\"1\" class=\"dataframe\">\n  <thead>\n    <tr style=\"text-align: right;\">\n      <th></th>\n      <th>statusId</th>\n      <th>accelerate</th>\n      <th>X</th>\n      <th>Y</th>\n      <th>Z</th>\n    </tr>\n  </thead>\n  <tbody>\n    <tr>\n      <th>273552</th>\n      <td>8</td>\n      <td>1</td>\n      <td>-6.972</td>\n      <td>5.784</td>\n      <td>7.475</td>\n    </tr>\n    <tr>\n      <th>273553</th>\n      <td>8</td>\n      <td>1</td>\n      <td>-7.431</td>\n      <td>5.516</td>\n      <td>7.268</td>\n    </tr>\n    <tr>\n      <th>273554</th>\n      <td>8</td>\n      <td>1</td>\n      <td>-7.661</td>\n      <td>5.439</td>\n      <td>7.268</td>\n    </tr>\n    <tr>\n      <th>273555</th>\n      <td>8</td>\n      <td>1</td>\n      <td>-7.393</td>\n      <td>5.324</td>\n      <td>6.969</td>\n    </tr>\n    <tr>\n      <th>273556</th>\n      <td>8</td>\n      <td>1</td>\n      <td>-6.512</td>\n      <td>5.133</td>\n      <td>6.969</td>\n    </tr>\n    <tr>\n      <th>273557</th>\n      <td>8</td>\n      <td>1</td>\n      <td>-5.286</td>\n      <td>5.171</td>\n      <td>6.767</td>\n    </tr>\n    <tr>\n      <th>273558</th>\n      <td>8</td>\n      <td>1</td>\n      <td>-3.792</td>\n      <td>5.286</td>\n      <td>6.767</td>\n    </tr>\n    <tr>\n      <th>273559</th>\n      <td>8</td>\n      <td>1</td>\n      <td>-2.260</td>\n      <td>5.324</td>\n      <td>7.002</td>\n    </tr>\n    <tr>\n      <th>273560</th>\n      <td>8</td>\n      <td>1</td>\n      <td>-1.187</td>\n      <td>5.554</td>\n      <td>7.002</td>\n    </tr>\n    <tr>\n      <th>273561</th>\n      <td>8</td>\n      <td>1</td>\n      <td>-0.421</td>\n      <td>5.631</td>\n      <td>8.096</td>\n    </tr>\n  </tbody>\n</table>\n</div>"
     },
     "metadata": {},
     "execution_count": 3
    }
   ],
   "source": [
    "log.tail(10)"
   ]
  },
  {
   "cell_type": "code",
   "execution_count": 4,
   "metadata": {},
   "outputs": [
    {
     "output_type": "execute_result",
     "data": {
      "text/plain": "(273562, 5)"
     },
     "metadata": {},
     "execution_count": 4
    }
   ],
   "source": [
    "log.shape"
   ]
  },
  {
   "cell_type": "code",
   "execution_count": 7,
   "metadata": {},
   "outputs": [],
   "source": [
    "x = log.drop('statusId', axis =1)\n",
    "y = log['statusId']\n",
    "z = x.drop('accelerate', axis = 1)"
   ]
  },
  {
   "cell_type": "code",
   "execution_count": 8,
   "metadata": {},
   "outputs": [
    {
     "output_type": "execute_result",
     "data": {
      "text/plain": "       X      Y      Z\n0 -0.268  0.536  9.785\n1 -0.268  0.536  9.785\n2 -0.268  0.536  9.785\n3 -0.268  0.536  9.785\n4 -0.268  0.536  9.785\n5 -0.268  0.536  9.785\n6 -0.268  0.536  9.785\n7 -0.268  0.536  9.785\n8 -0.268  0.536  9.785\n9 -0.268  0.536  9.785",
      "text/html": "<div>\n<style scoped>\n    .dataframe tbody tr th:only-of-type {\n        vertical-align: middle;\n    }\n\n    .dataframe tbody tr th {\n        vertical-align: top;\n    }\n\n    .dataframe thead th {\n        text-align: right;\n    }\n</style>\n<table border=\"1\" class=\"dataframe\">\n  <thead>\n    <tr style=\"text-align: right;\">\n      <th></th>\n      <th>X</th>\n      <th>Y</th>\n      <th>Z</th>\n    </tr>\n  </thead>\n  <tbody>\n    <tr>\n      <th>0</th>\n      <td>-0.268</td>\n      <td>0.536</td>\n      <td>9.785</td>\n    </tr>\n    <tr>\n      <th>1</th>\n      <td>-0.268</td>\n      <td>0.536</td>\n      <td>9.785</td>\n    </tr>\n    <tr>\n      <th>2</th>\n      <td>-0.268</td>\n      <td>0.536</td>\n      <td>9.785</td>\n    </tr>\n    <tr>\n      <th>3</th>\n      <td>-0.268</td>\n      <td>0.536</td>\n      <td>9.785</td>\n    </tr>\n    <tr>\n      <th>4</th>\n      <td>-0.268</td>\n      <td>0.536</td>\n      <td>9.785</td>\n    </tr>\n    <tr>\n      <th>5</th>\n      <td>-0.268</td>\n      <td>0.536</td>\n      <td>9.785</td>\n    </tr>\n    <tr>\n      <th>6</th>\n      <td>-0.268</td>\n      <td>0.536</td>\n      <td>9.785</td>\n    </tr>\n    <tr>\n      <th>7</th>\n      <td>-0.268</td>\n      <td>0.536</td>\n      <td>9.785</td>\n    </tr>\n    <tr>\n      <th>8</th>\n      <td>-0.268</td>\n      <td>0.536</td>\n      <td>9.785</td>\n    </tr>\n    <tr>\n      <th>9</th>\n      <td>-0.268</td>\n      <td>0.536</td>\n      <td>9.785</td>\n    </tr>\n  </tbody>\n</table>\n</div>"
     },
     "metadata": {},
     "execution_count": 8
    }
   ],
   "source": [
    "z.head(10)"
   ]
  },
  {
   "cell_type": "code",
   "execution_count": 9,
   "metadata": {},
   "outputs": [],
   "source": [
    "from sklearn.model_selection import train_test_split\n",
    "y_train, y_test, z_train, z_test = train_test_split(y,z, test_size = 0.2)"
   ]
  },
  {
   "cell_type": "code",
   "execution_count": 10,
   "metadata": {},
   "outputs": [
    {
     "output_type": "execute_result",
     "data": {
      "text/plain": "7512      6\n85982     6\n25604     6\n168500    7\n95088     7\n215262    8\n88378     6\n117635    7\n91379     7\n157029    7\nName: statusId, dtype: int64"
     },
     "metadata": {},
     "execution_count": 10
    }
   ],
   "source": [
    "y_train.head(10)"
   ]
  },
  {
   "cell_type": "code",
   "execution_count": 13,
   "metadata": {},
   "outputs": [
    {
     "output_type": "execute_result",
     "data": {
      "text/plain": "DecisionTreeClassifier()"
     },
     "metadata": {},
     "execution_count": 13
    }
   ],
   "source": [
    "from sklearn.tree import DecisionTreeClassifier\n",
    "classifier = DecisionTreeClassifier()\n",
    "classifier.fit(z_train, y_train)"
   ]
  },
  {
   "cell_type": "code",
   "execution_count": 14,
   "metadata": {},
   "outputs": [],
   "source": [
    "y_pred = classifier.predict(z_test)"
   ]
  },
  {
   "cell_type": "code",
   "execution_count": 15,
   "metadata": {
    "tags": []
   },
   "outputs": [
    {
     "output_type": "stream",
     "name": "stdout",
     "text": "[[18014     0     0]\n [    0 16773  1107]\n [    0  1214 17605]]\n              precision    recall  f1-score   support\n\n           6       1.00      1.00      1.00     18014\n           7       0.93      0.94      0.94     17880\n           8       0.94      0.94      0.94     18819\n\n    accuracy                           0.96     54713\n   macro avg       0.96      0.96      0.96     54713\nweighted avg       0.96      0.96      0.96     54713\n\n"
    }
   ],
   "source": [
    "from sklearn.metrics import classification_report, confusion_matrix\n",
    "print(confusion_matrix(y_test, y_pred))\n",
    "print(classification_report(y_test, y_pred))"
   ]
  },
  {
   "cell_type": "code",
   "execution_count": null,
   "metadata": {},
   "outputs": [],
   "source": []
  }
 ]
}