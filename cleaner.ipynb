{
 "metadata": {
  "language_info": {
   "codemirror_mode": {
    "name": "ipython",
    "version": 3
   },
   "file_extension": ".py",
   "mimetype": "text/x-python",
   "name": "python",
   "nbconvert_exporter": "python",
   "pygments_lexer": "ipython3",
   "version": "3.8.5-final"
  },
  "orig_nbformat": 2,
  "kernelspec": {
   "name": "python_defaultSpec_1596082686831",
   "display_name": "Python 3.8.5 32-bit ('.data': venv)"
  }
 },
 "nbformat": 4,
 "nbformat_minor": 2,
 "cells": [
  {
   "cell_type": "code",
   "execution_count": 1,
   "metadata": {},
   "outputs": [],
   "source": [
    "import pandas as pd \n"
   ]
  },
  {
   "cell_type": "code",
   "execution_count": 5,
   "metadata": {},
   "outputs": [],
   "source": [
    "df_1 = pd.DataFrame({'product': ['red shirt', 'red shirt', 'red shirt', 'white dress'],\n",
    "'price': [49.33, 49.33, 32.49, 199.99]})\n",
    "df_2 = pd.DataFrame({'product': ['red shirt', 'blue pants', 'white tuxedo', 'white dress'],\n",
    "'in_stock': [True, True, False, False]})"
   ]
  },
  {
   "cell_type": "code",
   "execution_count": 6,
   "metadata": {},
   "outputs": [],
   "source": [
    "df = pd.merge(left = df_1, right = df_2, on = 'product', how = 'inner')"
   ]
  },
  {
   "cell_type": "code",
   "execution_count": 7,
   "metadata": {},
   "outputs": [
    {
     "output_type": "execute_result",
     "data": {
      "text/plain": "       product   price  in_stock\n0    red shirt   49.33      True\n1    red shirt   49.33      True\n2    red shirt   32.49      True\n3  white dress  199.99     False",
      "text/html": "<div>\n<style scoped>\n    .dataframe tbody tr th:only-of-type {\n        vertical-align: middle;\n    }\n\n    .dataframe tbody tr th {\n        vertical-align: top;\n    }\n\n    .dataframe thead th {\n        text-align: right;\n    }\n</style>\n<table border=\"1\" class=\"dataframe\">\n  <thead>\n    <tr style=\"text-align: right;\">\n      <th></th>\n      <th>product</th>\n      <th>price</th>\n      <th>in_stock</th>\n    </tr>\n  </thead>\n  <tbody>\n    <tr>\n      <th>0</th>\n      <td>red shirt</td>\n      <td>49.33</td>\n      <td>True</td>\n    </tr>\n    <tr>\n      <th>1</th>\n      <td>red shirt</td>\n      <td>49.33</td>\n      <td>True</td>\n    </tr>\n    <tr>\n      <th>2</th>\n      <td>red shirt</td>\n      <td>32.49</td>\n      <td>True</td>\n    </tr>\n    <tr>\n      <th>3</th>\n      <td>white dress</td>\n      <td>199.99</td>\n      <td>False</td>\n    </tr>\n  </tbody>\n</table>\n</div>"
     },
     "metadata": {},
     "execution_count": 7
    }
   ],
   "source": [
    "df"
   ]
  },
  {
   "cell_type": "code",
   "execution_count": 8,
   "metadata": {},
   "outputs": [],
   "source": [
    "df = pd.merge(left = df_1, right = df_2, on = 'product', how = 'outer')"
   ]
  },
  {
   "cell_type": "code",
   "execution_count": 9,
   "metadata": {},
   "outputs": [
    {
     "output_type": "execute_result",
     "data": {
      "text/plain": "        product   price  in_stock\n0     red shirt   49.33      True\n1     red shirt   49.33      True\n2     red shirt   32.49      True\n3   white dress  199.99     False\n4    blue pants     NaN      True\n5  white tuxedo     NaN     False",
      "text/html": "<div>\n<style scoped>\n    .dataframe tbody tr th:only-of-type {\n        vertical-align: middle;\n    }\n\n    .dataframe tbody tr th {\n        vertical-align: top;\n    }\n\n    .dataframe thead th {\n        text-align: right;\n    }\n</style>\n<table border=\"1\" class=\"dataframe\">\n  <thead>\n    <tr style=\"text-align: right;\">\n      <th></th>\n      <th>product</th>\n      <th>price</th>\n      <th>in_stock</th>\n    </tr>\n  </thead>\n  <tbody>\n    <tr>\n      <th>0</th>\n      <td>red shirt</td>\n      <td>49.33</td>\n      <td>True</td>\n    </tr>\n    <tr>\n      <th>1</th>\n      <td>red shirt</td>\n      <td>49.33</td>\n      <td>True</td>\n    </tr>\n    <tr>\n      <th>2</th>\n      <td>red shirt</td>\n      <td>32.49</td>\n      <td>True</td>\n    </tr>\n    <tr>\n      <th>3</th>\n      <td>white dress</td>\n      <td>199.99</td>\n      <td>False</td>\n    </tr>\n    <tr>\n      <th>4</th>\n      <td>blue pants</td>\n      <td>NaN</td>\n      <td>True</td>\n    </tr>\n    <tr>\n      <th>5</th>\n      <td>white tuxedo</td>\n      <td>NaN</td>\n      <td>False</td>\n    </tr>\n  </tbody>\n</table>\n</div>"
     },
     "metadata": {},
     "execution_count": 9
    }
   ],
   "source": [
    "df"
   ]
  },
  {
   "cell_type": "code",
   "execution_count": 10,
   "metadata": {},
   "outputs": [],
   "source": [
    "df = pd.merge(left = df_1, right = df_2, on = 'product', how = 'outer')"
   ]
  },
  {
   "cell_type": "code",
   "execution_count": 11,
   "metadata": {},
   "outputs": [
    {
     "output_type": "execute_result",
     "data": {
      "text/plain": "        product   price  in_stock\n0     red shirt   49.33      True\n1     red shirt   49.33      True\n2     red shirt   32.49      True\n3   white dress  199.99     False\n4    blue pants     NaN      True\n5  white tuxedo     NaN     False",
      "text/html": "<div>\n<style scoped>\n    .dataframe tbody tr th:only-of-type {\n        vertical-align: middle;\n    }\n\n    .dataframe tbody tr th {\n        vertical-align: top;\n    }\n\n    .dataframe thead th {\n        text-align: right;\n    }\n</style>\n<table border=\"1\" class=\"dataframe\">\n  <thead>\n    <tr style=\"text-align: right;\">\n      <th></th>\n      <th>product</th>\n      <th>price</th>\n      <th>in_stock</th>\n    </tr>\n  </thead>\n  <tbody>\n    <tr>\n      <th>0</th>\n      <td>red shirt</td>\n      <td>49.33</td>\n      <td>True</td>\n    </tr>\n    <tr>\n      <th>1</th>\n      <td>red shirt</td>\n      <td>49.33</td>\n      <td>True</td>\n    </tr>\n    <tr>\n      <th>2</th>\n      <td>red shirt</td>\n      <td>32.49</td>\n      <td>True</td>\n    </tr>\n    <tr>\n      <th>3</th>\n      <td>white dress</td>\n      <td>199.99</td>\n      <td>False</td>\n    </tr>\n    <tr>\n      <th>4</th>\n      <td>blue pants</td>\n      <td>NaN</td>\n      <td>True</td>\n    </tr>\n    <tr>\n      <th>5</th>\n      <td>white tuxedo</td>\n      <td>NaN</td>\n      <td>False</td>\n    </tr>\n  </tbody>\n</table>\n</div>"
     },
     "metadata": {},
     "execution_count": 11
    }
   ],
   "source": [
    "df"
   ]
  },
  {
   "cell_type": "code",
   "execution_count": 12,
   "metadata": {},
   "outputs": [
    {
     "output_type": "execute_result",
     "data": {
      "text/plain": "        product   price  in_stock\n0     red shirt   49.33      True\n2     red shirt   32.49      True\n3   white dress  199.99     False\n4    blue pants     NaN      True\n5  white tuxedo     NaN     False",
      "text/html": "<div>\n<style scoped>\n    .dataframe tbody tr th:only-of-type {\n        vertical-align: middle;\n    }\n\n    .dataframe tbody tr th {\n        vertical-align: top;\n    }\n\n    .dataframe thead th {\n        text-align: right;\n    }\n</style>\n<table border=\"1\" class=\"dataframe\">\n  <thead>\n    <tr style=\"text-align: right;\">\n      <th></th>\n      <th>product</th>\n      <th>price</th>\n      <th>in_stock</th>\n    </tr>\n  </thead>\n  <tbody>\n    <tr>\n      <th>0</th>\n      <td>red shirt</td>\n      <td>49.33</td>\n      <td>True</td>\n    </tr>\n    <tr>\n      <th>2</th>\n      <td>red shirt</td>\n      <td>32.49</td>\n      <td>True</td>\n    </tr>\n    <tr>\n      <th>3</th>\n      <td>white dress</td>\n      <td>199.99</td>\n      <td>False</td>\n    </tr>\n    <tr>\n      <th>4</th>\n      <td>blue pants</td>\n      <td>NaN</td>\n      <td>True</td>\n    </tr>\n    <tr>\n      <th>5</th>\n      <td>white tuxedo</td>\n      <td>NaN</td>\n      <td>False</td>\n    </tr>\n  </tbody>\n</table>\n</div>"
     },
     "metadata": {},
     "execution_count": 12
    }
   ],
   "source": [
    "df.drop_duplicates()"
   ]
  },
  {
   "cell_type": "code",
   "execution_count": null,
   "metadata": {},
   "outputs": [],
   "source": []
  }
 ]
}