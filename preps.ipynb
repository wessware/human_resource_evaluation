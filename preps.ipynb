{
 "metadata": {
  "language_info": {
   "codemirror_mode": {
    "name": "ipython",
    "version": 3
   },
   "file_extension": ".py",
   "mimetype": "text/x-python",
   "name": "python",
   "nbconvert_exporter": "python",
   "pygments_lexer": "ipython3",
   "version": "3.8.5-final"
  },
  "orig_nbformat": 2,
  "kernelspec": {
   "name": "python_defaultSpec_1598842191453",
   "display_name": "Python 3.8.5 32-bit ('.data': venv)"
  }
 },
 "nbformat": 4,
 "nbformat_minor": 2,
 "cells": [
  {
   "cell_type": "code",
   "execution_count": 20,
   "metadata": {},
   "outputs": [],
   "source": [
    "import numpy as np \n",
    "from sklearn import preprocessing"
   ]
  },
  {
   "cell_type": "code",
   "execution_count": 21,
   "metadata": {},
   "outputs": [],
   "source": [
    "Input_data = np.array(\n",
    "[[2.1, -1.9, 5.5],\n",
    "[-1.5, 2.4, 3.5],\n",
    "[0.5, -7.9, 5.6],\n",
    "[5.9, 2.3, -5.8]])"
   ]
  },
  {
   "cell_type": "code",
   "execution_count": 22,
   "metadata": {
    "tags": []
   },
   "outputs": [
    {
     "output_type": "stream",
     "name": "stdout",
     "text": "\nBinarized data: \n [[1. 0. 1.]\n [0. 1. 1.]\n [0. 0. 1.]\n [1. 1. 0.]]\n"
    }
   ],
   "source": [
    "data_binarized = preprocessing.Binarizer(threshold=0.5).transform(Input_data)\n",
    "print(\"\\nBinarized data: \\n\", data_binarized)"
   ]
  },
  {
   "cell_type": "code",
   "execution_count": 23,
   "metadata": {
    "tags": []
   },
   "outputs": [
    {
     "output_type": "stream",
     "name": "stdout",
     "text": "Mean:  [ 1.75  -1.275  2.2  ]\nStd Deviation:  [2.71431391 4.20022321 4.69414529]\n"
    }
   ],
   "source": [
    "print(\"Mean: \", Input_data.mean(axis = 0))\n",
    "print(\"Std Deviation: \", Input_data.std(axis = 0))"
   ]
  },
  {
   "cell_type": "code",
   "execution_count": 24,
   "metadata": {
    "tags": []
   },
   "outputs": [
    {
     "output_type": "stream",
     "name": "stdout",
     "text": "Mean = [1.11022302e-16 0.00000000e+00 0.00000000e+00]\nStd Deviation = [1. 1. 1.]\n"
    }
   ],
   "source": [
    "data_scaled = preprocessing.scale(Input_data)\n",
    "print(\"Mean =\", data_scaled.mean(axis = 0))\n",
    "print(\"Std Deviation =\", data_scaled.std(axis = 0))"
   ]
  },
  {
   "cell_type": "code",
   "execution_count": 25,
   "metadata": {},
   "outputs": [],
   "source": [
    "import pandas as pd \n",
    "log = pd.read_csv(\"G:\\\\data\\\\datasets\\\\logogo.csv\")"
   ]
  },
  {
   "cell_type": "code",
   "execution_count": 26,
   "metadata": {},
   "outputs": [
    {
     "output_type": "execute_result",
     "data": {
      "text/plain": "   statusId  accelerate      X      Y      Z\n0         6           1 -0.268  0.536  9.785\n1         6           1 -0.268  0.536  9.785\n2         6           1 -0.268  0.536  9.785\n3         6           1 -0.268  0.536  9.785\n4         6           1 -0.268  0.536  9.785\n5         6           1 -0.268  0.536  9.785\n6         6           1 -0.268  0.536  9.785\n7         6           1 -0.268  0.536  9.785\n8         6           1 -0.268  0.536  9.785\n9         6           1 -0.268  0.536  9.785",
      "text/html": "<div>\n<style scoped>\n    .dataframe tbody tr th:only-of-type {\n        vertical-align: middle;\n    }\n\n    .dataframe tbody tr th {\n        vertical-align: top;\n    }\n\n    .dataframe thead th {\n        text-align: right;\n    }\n</style>\n<table border=\"1\" class=\"dataframe\">\n  <thead>\n    <tr style=\"text-align: right;\">\n      <th></th>\n      <th>statusId</th>\n      <th>accelerate</th>\n      <th>X</th>\n      <th>Y</th>\n      <th>Z</th>\n    </tr>\n  </thead>\n  <tbody>\n    <tr>\n      <th>0</th>\n      <td>6</td>\n      <td>1</td>\n      <td>-0.268</td>\n      <td>0.536</td>\n      <td>9.785</td>\n    </tr>\n    <tr>\n      <th>1</th>\n      <td>6</td>\n      <td>1</td>\n      <td>-0.268</td>\n      <td>0.536</td>\n      <td>9.785</td>\n    </tr>\n    <tr>\n      <th>2</th>\n      <td>6</td>\n      <td>1</td>\n      <td>-0.268</td>\n      <td>0.536</td>\n      <td>9.785</td>\n    </tr>\n    <tr>\n      <th>3</th>\n      <td>6</td>\n      <td>1</td>\n      <td>-0.268</td>\n      <td>0.536</td>\n      <td>9.785</td>\n    </tr>\n    <tr>\n      <th>4</th>\n      <td>6</td>\n      <td>1</td>\n      <td>-0.268</td>\n      <td>0.536</td>\n      <td>9.785</td>\n    </tr>\n    <tr>\n      <th>5</th>\n      <td>6</td>\n      <td>1</td>\n      <td>-0.268</td>\n      <td>0.536</td>\n      <td>9.785</td>\n    </tr>\n    <tr>\n      <th>6</th>\n      <td>6</td>\n      <td>1</td>\n      <td>-0.268</td>\n      <td>0.536</td>\n      <td>9.785</td>\n    </tr>\n    <tr>\n      <th>7</th>\n      <td>6</td>\n      <td>1</td>\n      <td>-0.268</td>\n      <td>0.536</td>\n      <td>9.785</td>\n    </tr>\n    <tr>\n      <th>8</th>\n      <td>6</td>\n      <td>1</td>\n      <td>-0.268</td>\n      <td>0.536</td>\n      <td>9.785</td>\n    </tr>\n    <tr>\n      <th>9</th>\n      <td>6</td>\n      <td>1</td>\n      <td>-0.268</td>\n      <td>0.536</td>\n      <td>9.785</td>\n    </tr>\n  </tbody>\n</table>\n</div>"
     },
     "metadata": {},
     "execution_count": 26
    }
   ],
   "source": [
    "log.head(10)\n"
   ]
  },
  {
   "cell_type": "code",
   "execution_count": 27,
   "metadata": {},
   "outputs": [
    {
     "output_type": "execute_result",
     "data": {
      "text/plain": "        statusId  accelerate      X      Y      Z\n273551         8           1 -6.972  5.784  7.475\n273552         8           1 -7.431  5.516  7.268\n273553         8           1 -7.661  5.439  7.268\n273554         8           1 -7.393  5.324  6.969\n273555         8           1 -6.512  5.133  6.969\n273556         8           1 -5.286  5.171  6.767\n273557         8           1 -3.792  5.286  6.767\n273558         8           1 -2.260  5.324  7.002\n273559         8           1 -1.187  5.554  7.002\n273560         8           1 -0.421  5.631  8.096",
      "text/html": "<div>\n<style scoped>\n    .dataframe tbody tr th:only-of-type {\n        vertical-align: middle;\n    }\n\n    .dataframe tbody tr th {\n        vertical-align: top;\n    }\n\n    .dataframe thead th {\n        text-align: right;\n    }\n</style>\n<table border=\"1\" class=\"dataframe\">\n  <thead>\n    <tr style=\"text-align: right;\">\n      <th></th>\n      <th>statusId</th>\n      <th>accelerate</th>\n      <th>X</th>\n      <th>Y</th>\n      <th>Z</th>\n    </tr>\n  </thead>\n  <tbody>\n    <tr>\n      <th>273551</th>\n      <td>8</td>\n      <td>1</td>\n      <td>-6.972</td>\n      <td>5.784</td>\n      <td>7.475</td>\n    </tr>\n    <tr>\n      <th>273552</th>\n      <td>8</td>\n      <td>1</td>\n      <td>-7.431</td>\n      <td>5.516</td>\n      <td>7.268</td>\n    </tr>\n    <tr>\n      <th>273553</th>\n      <td>8</td>\n      <td>1</td>\n      <td>-7.661</td>\n      <td>5.439</td>\n      <td>7.268</td>\n    </tr>\n    <tr>\n      <th>273554</th>\n      <td>8</td>\n      <td>1</td>\n      <td>-7.393</td>\n      <td>5.324</td>\n      <td>6.969</td>\n    </tr>\n    <tr>\n      <th>273555</th>\n      <td>8</td>\n      <td>1</td>\n      <td>-6.512</td>\n      <td>5.133</td>\n      <td>6.969</td>\n    </tr>\n    <tr>\n      <th>273556</th>\n      <td>8</td>\n      <td>1</td>\n      <td>-5.286</td>\n      <td>5.171</td>\n      <td>6.767</td>\n    </tr>\n    <tr>\n      <th>273557</th>\n      <td>8</td>\n      <td>1</td>\n      <td>-3.792</td>\n      <td>5.286</td>\n      <td>6.767</td>\n    </tr>\n    <tr>\n      <th>273558</th>\n      <td>8</td>\n      <td>1</td>\n      <td>-2.260</td>\n      <td>5.324</td>\n      <td>7.002</td>\n    </tr>\n    <tr>\n      <th>273559</th>\n      <td>8</td>\n      <td>1</td>\n      <td>-1.187</td>\n      <td>5.554</td>\n      <td>7.002</td>\n    </tr>\n    <tr>\n      <th>273560</th>\n      <td>8</td>\n      <td>1</td>\n      <td>-0.421</td>\n      <td>5.631</td>\n      <td>8.096</td>\n    </tr>\n  </tbody>\n</table>\n</div>"
     },
     "metadata": {},
     "execution_count": 27
    }
   ],
   "source": [
    "log.tail(10)"
   ]
  },
  {
   "cell_type": "code",
   "execution_count": 30,
   "metadata": {
    "tags": []
   },
   "outputs": [
    {
     "output_type": "stream",
     "name": "stdout",
     "text": "\nBinarized data: \n [[1. 1. 0. 1. 1.]\n [1. 1. 0. 1. 1.]\n [1. 1. 0. 1. 1.]\n ...\n [1. 1. 0. 1. 1.]\n [1. 1. 0. 1. 1.]\n [1. 1. 0. 1. 1.]]\n"
    }
   ],
   "source": [
    "log_bin = preprocessing.Binarizer(threshold = 0.5).transform(log)\n",
    "print('\\nBinarized data: \\n', log_bin)"
   ]
  },
  {
   "cell_type": "code",
   "execution_count": 31,
   "metadata": {
    "tags": []
   },
   "outputs": [
    {
     "output_type": "stream",
     "name": "stdout",
     "text": "Mean = statusId      7.011562\naccelerate    1.000000\nX             0.137241\nY             0.086455\nZ             7.073086\ndtype: float64\nStd deviation = statusId      0.818659\naccelerate    0.000000\nX             5.204382\nY             5.566247\nZ             3.880858\ndtype: float64\n"
    }
   ],
   "source": [
    "print(\"Mean =\", log.mean(axis = 0))\n",
    "print(\"Std deviation =\", log.std(axis = 0))"
   ]
  },
  {
   "cell_type": "code",
   "execution_count": 32,
   "metadata": {
    "tags": []
   },
   "outputs": [
    {
     "output_type": "stream",
     "name": "stdout",
     "text": "Mean = [-3.49088297e-17  0.00000000e+00 -1.66232523e-17  3.65711550e-17\n -1.50232642e-16]\nstd deviation = [1. 0. 1. 1. 1.]\n"
    }
   ],
   "source": [
    "log_scale = preprocessing.scale(log)\n",
    "print(\"Mean =\", log_scale.mean(axis = 0))\n",
    "print(\"std deviation =\", log_scale.std(axis = 0))"
   ]
  },
  {
   "cell_type": "code",
   "execution_count": 34,
   "metadata": {
    "tags": []
   },
   "outputs": [
    {
     "output_type": "stream",
     "name": "stdout",
     "text": "\nMin Max scaled data: \n [[0.         0.         0.50913074 0.52815463 0.83495146]\n [0.         0.         0.50913074 0.52815463 0.83495146]\n [0.         0.         0.50913074 0.52815463 0.83495146]\n ...\n [1.         0.         0.48652238 0.59853017 0.71644524]\n [1.         0.         0.49870047 0.60191078 0.71644524]\n [1.         0.         0.50739425 0.60304255 0.76303015]]\n"
    }
   ],
   "source": [
    "log_scale_min = preprocessing.MinMaxScaler(feature_range=(0, 1))\n",
    "log_scaled_min = log_scale_min.fit_transform(log)\n",
    "print('\\nMin Max scaled data: \\n', log_scaled_min)"
   ]
  },
  {
   "cell_type": "code",
   "execution_count": 35,
   "metadata": {
    "tags": []
   },
   "outputs": [
    {
     "output_type": "stream",
     "name": "stdout",
     "text": "\nL1 normalized data: \n [[ 0.34112229  0.05685372 -0.0152368   0.03047359  0.55631361]\n [ 0.34112229  0.05685372 -0.0152368   0.03047359  0.55631361]\n [ 0.34112229  0.05685372 -0.0152368   0.03047359  0.55631361]\n ...\n [ 0.33918426  0.04239803 -0.09581955  0.22572713  0.29687103]\n [ 0.35175658  0.04396957 -0.05219188  0.24420701  0.30787495]\n [ 0.34560221  0.04320028 -0.01818732  0.24326076  0.34974944]]\n"
    }
   ],
   "source": [
    "#data normalization \n",
    "log_norm = preprocessing.normalize(log, norm=\"l1\")\n",
    "print(\"\\nL1 normalized data: \\n\", log_norm)"
   ]
  },
  {
   "cell_type": "code",
   "execution_count": 36,
   "metadata": {
    "tags": []
   },
   "outputs": [
    {
     "output_type": "stream",
     "name": "stdout",
     "text": "\nL2 normalized data:  [[ 0.52006006  0.08667668 -0.02322935  0.0464587   0.84813128]\n [ 0.52006006  0.08667668 -0.02322935  0.0464587   0.84813128]\n [ 0.52006006  0.08667668 -0.02322935  0.0464587   0.84813128]\n ...\n [ 0.65875294  0.08234412 -0.18609771  0.43840008  0.57657351]\n [ 0.66144195  0.08268024 -0.09814145  0.45920608  0.57892707]\n [ 0.62770565  0.07846321 -0.03303301  0.44182632  0.63523812]]\n"
    }
   ],
   "source": [
    "log_norm_2 = preprocessing.normalize(log, norm=\"l2\")\n",
    "print('\\nL2 normalized data: ', log_norm_2)"
   ]
  },
  {
   "cell_type": "code",
   "execution_count": 41,
   "metadata": {},
   "outputs": [
    {
     "output_type": "execute_result",
     "data": {
      "text/plain": "LabelEncoder()"
     },
     "metadata": {},
     "execution_count": 41
    }
   ],
   "source": [
    "#sample input labels\n",
    "input_labels = ['red', 'black', 'red', 'green', 'black', 'yellow', 'white']\n",
    "#creating a label encoder \n",
    "encoder = preprocessing.LabelEncoder()\n",
    "encoder.fit(input_labels)"
   ]
  },
  {
   "cell_type": "code",
   "execution_count": 42,
   "metadata": {
    "tags": []
   },
   "outputs": [
    {
     "output_type": "stream",
     "name": "stdout",
     "text": "\nLabels =  ['green', 'red', 'black']\n"
    }
   ],
   "source": [
    "#encoding a set of labels \n",
    "test_labels = ['green', 'red', 'black']\n",
    "encoded_values = encoder.transform(test_labels)\n",
    "print(\"\\nLabels = \", test_labels)"
   ]
  },
  {
   "cell_type": "code",
   "execution_count": 43,
   "metadata": {
    "tags": []
   },
   "outputs": [
    {
     "output_type": "stream",
     "name": "stdout",
     "text": "Encoded values =  [1, 2, 0]\n"
    }
   ],
   "source": [
    "print(\"Encoded values = \", list(encoded_values))"
   ]
  },
  {
   "cell_type": "code",
   "execution_count": 45,
   "metadata": {
    "tags": []
   },
   "outputs": [
    {
     "output_type": "stream",
     "name": "stdout",
     "text": "\nEncoded Values =  [3, 0, 4, 1]\n\nDecoded values =  ['white', 'black', 'yellow', 'green']\n"
    }
   ],
   "source": [
    "#decoding a set of values \n",
    "encoded_values = [3, 0, 4, 1]\n",
    "decoded_list = encoder.inverse_transform(encoded_values)\n",
    "print('\\nEncoded Values = ', encoded_values)\n",
    "print('\\nDecoded values = ', list(decoded_list))"
   ]
  },
  {
   "cell_type": "code",
   "execution_count": null,
   "metadata": {},
   "outputs": [],
   "source": []
  }
 ]
}